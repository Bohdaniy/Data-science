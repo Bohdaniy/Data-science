{
 "cells": [
  {
   "metadata": {},
   "cell_type": "markdown",
   "source": [
    "# This is a sample Jupyter Notebook\n",
    "\n",
    "Below is an example of a code cell. \n",
    "Put your cursor into the cell and press Shift+Enter to execute it and select the next one, or click 'Run Cell' button.\n",
    "\n",
    "Press Double Shift to search everywhere for classes, files, tool windows, actions, and settings.\n",
    "\n",
    "To learn more about Jupyter Notebooks in PyCharm, see [help](https://www.jetbrains.com/help/pycharm/ipython-notebook-support.html).\n",
    "For an overview of PyCharm, go to Help -> Learn IDE features or refer to [our documentation](https://www.jetbrains.com/help/pycharm/getting-started.html)."
   ],
   "id": "8a77807f92f26ee"
  },
  {
   "metadata": {
    "ExecuteTime": {
     "end_time": "2024-09-15T17:36:23.365777Z",
     "start_time": "2024-09-15T17:36:18.841863Z"
    }
   },
   "cell_type": "code",
   "source": [
    "import numpy as n\n",
    "name = input(\"Enter your name: \")\n",
    "print(f\"Hello, {name}!\")\n",
    "\n",
    "random_numbers = n.random.rand(10)\n",
    "mean_value = n.mean(random_numbers)\n",
    "print(\"Масив випадкових чисел:\", random_numbers)\n",
    "print(\"Середнє значення масиву:\", mean_value)"
   ],
   "id": "fbc121e30a2defb3",
   "outputs": [
    {
     "name": "stdout",
     "output_type": "stream",
     "text": [
      "Hello, Alah!\n",
      "Масив випадкових чисел: [9.80537441e-01 8.12703524e-01 8.92825262e-04 2.12000198e-01\n",
      " 7.92314390e-01 8.94290642e-01 6.63289139e-01 7.75751157e-01\n",
      " 5.88057320e-01 5.99976342e-01]\n",
      "Середнє значення масиву: 0.6319812977539724\n"
     ]
    }
   ],
   "execution_count": 1
  }
 ],
 "metadata": {
  "kernelspec": {
   "display_name": "Python 3",
   "language": "python",
   "name": "python3"
  },
  "language_info": {
   "codemirror_mode": {
    "name": "ipython",
    "version": 2
   },
   "file_extension": ".py",
   "mimetype": "text/x-python",
   "name": "python",
   "nbconvert_exporter": "python",
   "pygments_lexer": "ipython2",
   "version": "2.7.6"
  }
 },
 "nbformat": 4,
 "nbformat_minor": 5
}
